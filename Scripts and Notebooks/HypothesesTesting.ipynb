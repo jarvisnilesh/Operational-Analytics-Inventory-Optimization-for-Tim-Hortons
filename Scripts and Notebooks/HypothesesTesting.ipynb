{
  "cells": [
    {
      "cell_type": "code",
      "execution_count": 17,
      "metadata": {
        "colab": {
          "base_uri": "https://localhost:8080/",
          "height": 359
        },
        "id": "K-9EoP-V2oSu",
        "outputId": "c244e530-f7c3-427a-8825-01a4153f927f"
      },
      "outputs": [
        {
          "data": {
            "text/html": [
              "<div>\n",
              "<style scoped>\n",
              "    .dataframe tbody tr th:only-of-type {\n",
              "        vertical-align: middle;\n",
              "    }\n",
              "\n",
              "    .dataframe tbody tr th {\n",
              "        vertical-align: top;\n",
              "    }\n",
              "\n",
              "    .dataframe thead th {\n",
              "        text-align: right;\n",
              "    }\n",
              "</style>\n",
              "<table border=\"1\" class=\"dataframe\">\n",
              "  <thead>\n",
              "    <tr style=\"text-align: right;\">\n",
              "      <th></th>\n",
              "      <th>Date</th>\n",
              "      <th>Day</th>\n",
              "      <th>Adjusted_Gross&amp;Sales</th>\n",
              "      <th>Net_Sales</th>\n",
              "      <th>HST</th>\n",
              "      <th>Counted_Cash</th>\n",
              "      <th>Foreign_Cash&amp;Equiv.</th>\n",
              "      <th>Total_Cash</th>\n",
              "      <th>Debit</th>\n",
              "      <th>Tims_Gift_Card&amp;Redeem</th>\n",
              "      <th>...</th>\n",
              "      <th>Scan_and_Pay&amp;Amex</th>\n",
              "      <th>Scan_and_Pay&amp;Timcard</th>\n",
              "      <th>Digital_Visa</th>\n",
              "      <th>Digital_Mastercard</th>\n",
              "      <th>Digital_AMEX</th>\n",
              "      <th>Digital_Tims&amp;Gift Card</th>\n",
              "      <th>Rebates</th>\n",
              "      <th>Tims_Gift_Card&amp;Load</th>\n",
              "      <th>Deposit</th>\n",
              "      <th>Over_ /_Short</th>\n",
              "    </tr>\n",
              "  </thead>\n",
              "  <tbody>\n",
              "    <tr>\n",
              "      <th>0</th>\n",
              "      <td>2022-01-01</td>\n",
              "      <td>Sat</td>\n",
              "      <td>0.00</td>\n",
              "      <td>0.00</td>\n",
              "      <td>0.00</td>\n",
              "      <td>0.00</td>\n",
              "      <td>0.0</td>\n",
              "      <td>0.00</td>\n",
              "      <td>0.00</td>\n",
              "      <td>0.00</td>\n",
              "      <td>...</td>\n",
              "      <td>0</td>\n",
              "      <td>0</td>\n",
              "      <td>0.00</td>\n",
              "      <td>0.0</td>\n",
              "      <td>0.0</td>\n",
              "      <td>0.00</td>\n",
              "      <td>0.0</td>\n",
              "      <td>0.0</td>\n",
              "      <td>0.00</td>\n",
              "      <td>0.00</td>\n",
              "    </tr>\n",
              "    <tr>\n",
              "      <th>1</th>\n",
              "      <td>2022-01-02</td>\n",
              "      <td>Sun</td>\n",
              "      <td>1081.13</td>\n",
              "      <td>1060.40</td>\n",
              "      <td>89.41</td>\n",
              "      <td>437.00</td>\n",
              "      <td>0.0</td>\n",
              "      <td>437.00</td>\n",
              "      <td>452.24</td>\n",
              "      <td>175.05</td>\n",
              "      <td>...</td>\n",
              "      <td>0</td>\n",
              "      <td>0</td>\n",
              "      <td>4.03</td>\n",
              "      <td>11.8</td>\n",
              "      <td>0.0</td>\n",
              "      <td>3.95</td>\n",
              "      <td>0.0</td>\n",
              "      <td>25.0</td>\n",
              "      <td>1189.31</td>\n",
              "      <td>14.50</td>\n",
              "    </tr>\n",
              "    <tr>\n",
              "      <th>2</th>\n",
              "      <td>2022-01-03</td>\n",
              "      <td>Mon</td>\n",
              "      <td>1919.92</td>\n",
              "      <td>1868.58</td>\n",
              "      <td>147.47</td>\n",
              "      <td>785.65</td>\n",
              "      <td>0.0</td>\n",
              "      <td>785.65</td>\n",
              "      <td>699.54</td>\n",
              "      <td>311.70</td>\n",
              "      <td>...</td>\n",
              "      <td>0</td>\n",
              "      <td>0</td>\n",
              "      <td>0.00</td>\n",
              "      <td>0.0</td>\n",
              "      <td>0.0</td>\n",
              "      <td>0.00</td>\n",
              "      <td>0.0</td>\n",
              "      <td>0.0</td>\n",
              "      <td>1992.17</td>\n",
              "      <td>-23.88</td>\n",
              "    </tr>\n",
              "    <tr>\n",
              "      <th>3</th>\n",
              "      <td>2022-01-04</td>\n",
              "      <td>Tue</td>\n",
              "      <td>2540.98</td>\n",
              "      <td>2435.94</td>\n",
              "      <td>188.05</td>\n",
              "      <td>1004.80</td>\n",
              "      <td>0.0</td>\n",
              "      <td>1004.80</td>\n",
              "      <td>850.72</td>\n",
              "      <td>508.46</td>\n",
              "      <td>...</td>\n",
              "      <td>0</td>\n",
              "      <td>0</td>\n",
              "      <td>2.30</td>\n",
              "      <td>0.0</td>\n",
              "      <td>0.0</td>\n",
              "      <td>0.00</td>\n",
              "      <td>0.0</td>\n",
              "      <td>0.0</td>\n",
              "      <td>2570.93</td>\n",
              "      <td>-0.06</td>\n",
              "    </tr>\n",
              "    <tr>\n",
              "      <th>4</th>\n",
              "      <td>2022-01-05</td>\n",
              "      <td>Wed</td>\n",
              "      <td>2562.88</td>\n",
              "      <td>2464.21</td>\n",
              "      <td>206.06</td>\n",
              "      <td>1057.75</td>\n",
              "      <td>0.0</td>\n",
              "      <td>1057.75</td>\n",
              "      <td>783.30</td>\n",
              "      <td>478.72</td>\n",
              "      <td>...</td>\n",
              "      <td>0</td>\n",
              "      <td>0</td>\n",
              "      <td>4.11</td>\n",
              "      <td>8.5</td>\n",
              "      <td>0.0</td>\n",
              "      <td>5.79</td>\n",
              "      <td>0.0</td>\n",
              "      <td>8.4</td>\n",
              "      <td>2682.02</td>\n",
              "      <td>3.35</td>\n",
              "    </tr>\n",
              "  </tbody>\n",
              "</table>\n",
              "<p>5 rows × 26 columns</p>\n",
              "</div>"
            ],
            "text/plain": [
              "        Date  Day  Adjusted_Gross&Sales  Net_Sales     HST  Counted_Cash  \\\n",
              "0 2022-01-01  Sat                  0.00       0.00    0.00          0.00   \n",
              "1 2022-01-02  Sun               1081.13    1060.40   89.41        437.00   \n",
              "2 2022-01-03  Mon               1919.92    1868.58  147.47        785.65   \n",
              "3 2022-01-04  Tue               2540.98    2435.94  188.05       1004.80   \n",
              "4 2022-01-05  Wed               2562.88    2464.21  206.06       1057.75   \n",
              "\n",
              "   Foreign_Cash&Equiv.  Total_Cash   Debit  Tims_Gift_Card&Redeem  ...  \\\n",
              "0                  0.0        0.00    0.00                   0.00  ...   \n",
              "1                  0.0      437.00  452.24                 175.05  ...   \n",
              "2                  0.0      785.65  699.54                 311.70  ...   \n",
              "3                  0.0     1004.80  850.72                 508.46  ...   \n",
              "4                  0.0     1057.75  783.30                 478.72  ...   \n",
              "\n",
              "   Scan_and_Pay&Amex  Scan_and_Pay&Timcard  Digital_Visa  Digital_Mastercard  \\\n",
              "0                  0                     0          0.00                 0.0   \n",
              "1                  0                     0          4.03                11.8   \n",
              "2                  0                     0          0.00                 0.0   \n",
              "3                  0                     0          2.30                 0.0   \n",
              "4                  0                     0          4.11                 8.5   \n",
              "\n",
              "   Digital_AMEX  Digital_Tims&Gift Card  Rebates  Tims_Gift_Card&Load  \\\n",
              "0           0.0                    0.00      0.0                  0.0   \n",
              "1           0.0                    3.95      0.0                 25.0   \n",
              "2           0.0                    0.00      0.0                  0.0   \n",
              "3           0.0                    0.00      0.0                  0.0   \n",
              "4           0.0                    5.79      0.0                  8.4   \n",
              "\n",
              "   Deposit  Over_ /_Short  \n",
              "0     0.00           0.00  \n",
              "1  1189.31          14.50  \n",
              "2  1992.17         -23.88  \n",
              "3  2570.93          -0.06  \n",
              "4  2682.02           3.35  \n",
              "\n",
              "[5 rows x 26 columns]"
            ]
          },
          "execution_count": 17,
          "metadata": {},
          "output_type": "execute_result"
        }
      ],
      "source": [
        "import pandas as pd\n",
        "import seaborn as sns\n",
        "import matplotlib.pyplot as plt\n",
        "from scipy import stats\n",
        "import statsmodels.api as sm\n",
        "\n",
        "\n",
        "df = pd.read_excel(\"Account Summary.xlsx\")\n",
        "df.head()"
      ]
    },
    {
      "cell_type": "code",
      "execution_count": 6,
      "metadata": {},
      "outputs": [
        {
          "name": "stdout",
          "output_type": "stream",
          "text": [
            "<class 'pandas.core.frame.DataFrame'>\n",
            "RangeIndex: 365 entries, 0 to 364\n",
            "Data columns (total 26 columns):\n",
            " #   Column                   Non-Null Count  Dtype         \n",
            "---  ------                   --------------  -----         \n",
            " 0   Date                     365 non-null    datetime64[ns]\n",
            " 1   Day                      365 non-null    object        \n",
            " 2   Adjusted_Gross&Sales     365 non-null    float64       \n",
            " 3   Net_Sales                365 non-null    float64       \n",
            " 4   HST                      365 non-null    float64       \n",
            " 5   Counted_Cash             365 non-null    float64       \n",
            " 6   Foreign_Cash&Equiv.      365 non-null    float64       \n",
            " 7   Total_Cash               365 non-null    float64       \n",
            " 8   Debit                    365 non-null    float64       \n",
            " 9   Tims_Gift_Card&Redeem    365 non-null    float64       \n",
            " 10  Visa                     365 non-null    float64       \n",
            " 11  MasterCard               365 non-null    float64       \n",
            " 12  American_Express         365 non-null    float64       \n",
            " 13  Discover                 365 non-null    float64       \n",
            " 14  Scan_and_Pay&Mastercard  365 non-null    int64         \n",
            " 15  Scan_and_Pay&VISA        365 non-null    int64         \n",
            " 16  Scan_and_Pay&Amex        365 non-null    int64         \n",
            " 17  Scan_and_Pay&Timcard     365 non-null    int64         \n",
            " 18  Digital_Visa             365 non-null    float64       \n",
            " 19  Digital_Mastercard       365 non-null    float64       \n",
            " 20  Digital_AMEX             365 non-null    float64       \n",
            " 21  Digital_Tims&Gift Card   365 non-null    float64       \n",
            " 22  Rebates                  365 non-null    float64       \n",
            " 23  Tims_Gift_Card&Load      365 non-null    float64       \n",
            " 24  Deposit                  365 non-null    float64       \n",
            " 25  Over_ /_Short            365 non-null    float64       \n",
            "dtypes: datetime64[ns](1), float64(20), int64(4), object(1)\n",
            "memory usage: 74.3+ KB\n"
          ]
        }
      ],
      "source": [
        "df.info()"
      ]
    },
    {
      "cell_type": "code",
      "execution_count": 18,
      "metadata": {},
      "outputs": [
        {
          "data": {
            "text/plain": [
              "Index(['Date', 'Day', 'Adjusted_Gross&Sales', 'Net_Sales', 'HST',\n",
              "       'Counted_Cash', 'Foreign_Cash&Equiv.', 'Total_Cash', 'Debit',\n",
              "       'Tims_Gift_Card&Redeem', 'Visa', 'MasterCard', 'American_Express',\n",
              "       'Discover', 'Scan_and_Pay&Mastercard', 'Scan_and_Pay&VISA',\n",
              "       'Scan_and_Pay&Amex', 'Scan_and_Pay&Timcard', 'Digital_Visa',\n",
              "       'Digital_Mastercard', 'Digital_AMEX', 'Digital_Tims&Gift Card',\n",
              "       'Rebates', 'Tims_Gift_Card&Load', 'Deposit', 'Over_ /_Short'],\n",
              "      dtype='object')"
            ]
          },
          "execution_count": 18,
          "metadata": {},
          "output_type": "execute_result"
        }
      ],
      "source": [
        "df.columns"
      ]
    },
    {
      "cell_type": "markdown",
      "metadata": {},
      "source": [
        "# Hypotheses Test:"
      ]
    },
    {
      "cell_type": "markdown",
      "metadata": {
        "id": "v8xRuTJ-24zN"
      },
      "source": [
        "## 1.Relationship Between Net Sales and Rebate Usage\n",
        "\n",
        "**H₀: Rebates and discounts do not significantly influence net sales.**\n",
        "\n",
        "**H₁: Higher rebate usage leads to increased net sales.**\n",
        "\n"
      ]
    },
    {
      "cell_type": "markdown",
      "metadata": {},
      "source": [
        "#### \"Rebates\" represents discounts, cashback, or promotional offers that are applied to sales"
      ]
    },
    {
      "cell_type": "code",
      "execution_count": 26,
      "metadata": {
        "colab": {
          "base_uri": "https://localhost:8080/"
        },
        "id": "nCY1HK0B2oVV",
        "outputId": "d0699143-0d98-40ab-afd5-08ad99c86e1e"
      },
      "outputs": [
        {
          "name": "stdout",
          "output_type": "stream",
          "text": [
            "Mean Sales with Rebates: 2510.4\n",
            "Mean Sales without Rebates: 1976.54\n",
            "T-Test Results: t-statistic = 4.9424, p-value = 0.000009\n",
            "Reject the Null Hypothesis: Rebates significantly impact Net Sales.\n"
          ]
        }
      ],
      "source": [
        "# Two groups: with rebates and without rebates\n",
        "\n",
        "with_rebates = df[df[\"Rebates\"] > 0][\"Net_Sales\"]\n",
        "without_rebates = df[df[\"Rebates\"] == 0][\"Net_Sales\"]\n",
        "\n",
        "# Mean Sales\n",
        "mean_with_rebates = with_rebates.mean()\n",
        "mean_without_rebates = without_rebates.mean()\n",
        "print(f\"Mean Sales with Rebates: {round(mean_with_rebates, 2)}\")\n",
        "print(f\"Mean Sales without Rebates: {round(mean_without_rebates, 2)}\")\n",
        "\n",
        "\n",
        "# Independent t-test\n",
        "t_stat, p_value = stats.ttest_ind(with_rebates, without_rebates, equal_var=False)\n",
        "print(f\"T-Test Results: t-statistic = {t_stat:.4f}, p-value = {p_value:.6f}\")\n",
        "\n",
        "# Interpretation\n",
        "if p_value < 0.05:\n",
        "    print(\"Reject the Null Hypothesis: Rebates significantly impact Net Sales.\")\n",
        "else:\n",
        "    print(\"Fail to Reject the Null Hypothesis: No significant impact of rebates on Net Sales.\")"
      ]
    },
    {
      "cell_type": "markdown",
      "metadata": {},
      "source": [
        "**Observations:**\n",
        "\n",
        "#### When rebates were applied, the average net sales were higher.\n",
        "\n",
        "#### Without rebates, the net sales were significantly lower.\n",
        "\n",
        "**T-Test Results:**\n",
        "\n",
        "**t-statistic = 4.9424** → Indicates a strong difference between the two groups.\n",
        "\n",
        "**p-value = 0.000009** → Since the p-value is much smaller than 0.05, the difference is statistically significant."
      ]
    },
    {
      "cell_type": "markdown",
      "metadata": {
        "id": "velq3ESQ2vNM"
      },
      "source": [
        "## 2.ANOVA Test: Impact of Digital Payments on Net Sales\n",
        "\n",
        "**H₀ (Null Hypothesis): There is a significant difference in Net Sales across different Digital Payment levels (Visa, MasterCard, AMEX, Tim’s Gift Card, etc.)**\n",
        "\n",
        "**H₁ (Alternative Hypothesis): No significant difference in Net Sales across different Digital Payment levels**"
      ]
    },
    {
      "cell_type": "code",
      "execution_count": 27,
      "metadata": {},
      "outputs": [
        {
          "data": {
            "text/plain": [
              "Index(['Date', 'Day', 'Adjusted_Gross&Sales', 'Net_Sales', 'HST',\n",
              "       'Counted_Cash', 'Foreign_Cash&Equiv.', 'Total_Cash', 'Debit',\n",
              "       'Tims_Gift_Card&Redeem', 'Visa', 'MasterCard', 'American_Express',\n",
              "       'Discover', 'Scan_and_Pay&Mastercard', 'Scan_and_Pay&VISA',\n",
              "       'Scan_and_Pay&Amex', 'Scan_and_Pay&Timcard', 'Digital_Visa',\n",
              "       'Digital_Mastercard', 'Digital_AMEX', 'Digital_Tims&Gift Card',\n",
              "       'Rebates', 'Tims_Gift_Card&Load', 'Deposit', 'Over_ /_Short',\n",
              "       'Total_Digital_Payments', 'Payment_Category'],\n",
              "      dtype='object')"
            ]
          },
          "execution_count": 27,
          "metadata": {},
          "output_type": "execute_result"
        }
      ],
      "source": [
        "df.columns"
      ]
    },
    {
      "cell_type": "code",
      "execution_count": 32,
      "metadata": {},
      "outputs": [
        {
          "name": "stdout",
          "output_type": "stream",
          "text": [
            "Date                       False\n",
            "Day                        False\n",
            "Adjusted_Gross&Sales       False\n",
            "Net_Sales                  False\n",
            "HST                        False\n",
            "Counted_Cash               False\n",
            "Foreign_Cash&Equiv.        False\n",
            "Total_Cash                 False\n",
            "Debit                      False\n",
            "Tims_Gift_Card&Redeem      False\n",
            "Visa                       False\n",
            "MasterCard                 False\n",
            "American_Express           False\n",
            "Discover                   False\n",
            "Scan_and_Pay&Mastercard    False\n",
            "Scan_and_Pay&VISA          False\n",
            "Scan_and_Pay&Amex          False\n",
            "Scan_and_Pay&Timcard       False\n",
            "Digital_Visa               False\n",
            "Digital_Mastercard         False\n",
            "Digital_AMEX               False\n",
            "Digital_Tims&Gift Card     False\n",
            "Rebates                    False\n",
            "Tims_Gift_Card&Load        False\n",
            "Deposit                    False\n",
            "Over_ /_Short              False\n",
            "Total_Digital_Payments     False\n",
            "Payment_Category           False\n",
            "dtype: bool\n"
          ]
        }
      ],
      "source": [
        "null_columns = df.isna().all()\n",
        "print(null_columns)"
      ]
    },
    {
      "cell_type": "code",
      "execution_count": 33,
      "metadata": {},
      "outputs": [
        {
          "name": "stdout",
          "output_type": "stream",
          "text": [
            "Mean Total Digital Payments: 1506.19\n"
          ]
        }
      ],
      "source": [
        "df[\"Total_Digital_Payments\"] = (df[\"Digital_Visa\"] + df[\"Digital_Mastercard\"] + df['Debit'] +\n",
        "                                  df[\"Digital_AMEX\"] + df[\"Digital_Tims&Gift Card\"] + df['Digital_Visa'] + \n",
        "                                  df['MasterCard'] + df['Discover'] + df['Tims_Gift_Card&Load'] + df['Tims_Gift_Card&Redeem'] + \n",
        "                                  df['Scan_and_Pay&Amex'] + df['Scan_and_Pay&Mastercard'] + df['Scan_and_Pay&Timcard'] + \n",
        "                                  df['Scan_and_Pay&VISA'])\n",
        "\n",
        "# Mean digital payments and sales\n",
        "mean_digital_payments = df[\"Total_Digital_Payments\"].mean()\n",
        "print(f\"Mean Total Digital Payments: {round(mean_digital_payments, 2)}\")"
      ]
    },
    {
      "cell_type": "code",
      "execution_count": 34,
      "metadata": {
        "colab": {
          "base_uri": "https://localhost:8080/"
        },
        "id": "pBsYOu4y23pl",
        "outputId": "80368605-f244-4f77-ca14-105749202d8e"
      },
      "outputs": [
        {
          "name": "stdout",
          "output_type": "stream",
          "text": [
            "F-Statistic: 334.49\n",
            "ANOVA P-Value: 0.000000\n",
            "Reject the Null Hypothesis: There is a significant difference in Net Sales across different Digital Payment levels.\n"
          ]
        }
      ],
      "source": [
        "# Categorizing Digital Payments into Low, Medium, and High usage\n",
        "df[\"Payment_Category\"] = pd.qcut(df[\"Total_Digital_Payments\"], q=3, labels=[\"Low\", \"Medium\", \"High\"])\n",
        "\n",
        "# Grouping Net Sales by Payment Category\n",
        "low_payments = df[df[\"Payment_Category\"] == \"Low\"][\"Net_Sales\"]\n",
        "medium_payments = df[df[\"Payment_Category\"] == \"Medium\"][\"Net_Sales\"]\n",
        "high_payments = df[df[\"Payment_Category\"] == \"High\"][\"Net_Sales\"]\n",
        "\n",
        "# ANOVA test\n",
        "f_stat, p_value_anova = stats.f_oneway(low_payments, medium_payments, high_payments)\n",
        "print(f\"F-Statistic: {f_stat:.2f}\")\n",
        "print(f\"ANOVA P-Value: {p_value_anova:.6f}\")\n",
        "\n",
        "# Interpretation\n",
        "if p_value_anova < 0.05:\n",
        "    print(\"Reject the Null Hypothesis: There is a significant difference in Net Sales across different Digital Payment levels.\")\n",
        "else:\n",
        "    print(\"Fail to Reject the Null Hypothesis : No significant difference in Net Sales across different Digital Payment levels.\")\n",
        "\n"
      ]
    }
  ],
  "metadata": {
    "colab": {
      "provenance": []
    },
    "kernelspec": {
      "display_name": "Python 3",
      "name": "python3"
    },
    "language_info": {
      "codemirror_mode": {
        "name": "ipython",
        "version": 3
      },
      "file_extension": ".py",
      "mimetype": "text/x-python",
      "name": "python",
      "nbconvert_exporter": "python",
      "pygments_lexer": "ipython3",
      "version": "3.12.3"
    }
  },
  "nbformat": 4,
  "nbformat_minor": 0
}
